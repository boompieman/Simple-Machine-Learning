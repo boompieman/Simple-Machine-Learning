{
 "cells": [
  {
   "cell_type": "code",
   "execution_count": 1,
   "metadata": {
    "collapsed": false
   },
   "outputs": [
    {
     "data": {
      "text/plain": [
       "'\\n\\xe6\\xa9\\x9f\\xe5\\x99\\xa8\\xe5\\xad\\xb8\\xe7\\xbf\\x92\\xe5\\x81\\x9a\\xe9\\x90\\xb5\\xe9\\x81\\x94\\xe5\\xb0\\xbc\\xe8\\x99\\x9f\\xe5\\x88\\x86\\xe6\\x9e\\x90\\n'"
      ]
     },
     "execution_count": 1,
     "metadata": {},
     "output_type": "execute_result"
    }
   ],
   "source": [
    "# encoding: utf-8\n",
    "import math\n",
    "import pandas as pd\n",
    "import numpy as np\n",
    "from sklearn import tree\n",
    "from sklearn import cross_validation  \n",
    "from sklearn.neighbors import KNeighborsClassifier\n",
    " \n",
    "\"\"\"\n",
    "機器學習做鐵達尼號分析\n",
    "\"\"\""
   ]
  },
  {
   "cell_type": "code",
   "execution_count": 3,
   "metadata": {
    "collapsed": false
   },
   "outputs": [
    {
     "name": "stdout",
     "output_type": "stream",
     "text": [
      "0.742038216561\n"
     ]
    }
   ],
   "source": [
    "train_data_path = '/Users/macbook/Desktop/code/Simple-Machine-Learning/train.csv'\n",
    "train_data = pd.read_csv(train_data_path,header=0)\n",
    "\n",
    "n_train_data = train_data.iloc[:,[0,4]]   #挑想要哪幾欄\n",
    "\n",
    "#女性存活率\n",
    "female_tourist = len(train_data[train_data['Sex'] == 'female'])  \n",
    "female_survived = len(train_data[(train_data['Sex'] == 'female') & (train_data['Survived'] == 1)])  \n",
    "print female_survived * 1.0 / female_tourist  \n"
   ]
  },
  {
   "cell_type": "code",
   "execution_count": 4,
   "metadata": {
    "collapsed": false
   },
   "outputs": [],
   "source": [
    "#新增一欄Gender把Sex中女性為1,男性為0\n",
    "#train_data['Gender'] = train_data['Sex'].map({'female': 1, 'male': 0}).astype(int) \n",
    "#astype把它變成int\n",
    "train_data['Sex'] = train_data['Sex'].map({'female': 1, 'male': 0}).astype(int) "
   ]
  },
  {
   "cell_type": "code",
   "execution_count": 5,
   "metadata": {
    "collapsed": false
   },
   "outputs": [
    {
     "data": {
      "text/plain": [
       "0      False\n",
       "1      False\n",
       "2      False\n",
       "3      False\n",
       "4      False\n",
       "5       True\n",
       "6      False\n",
       "7      False\n",
       "8      False\n",
       "9      False\n",
       "10     False\n",
       "11     False\n",
       "12     False\n",
       "13     False\n",
       "14     False\n",
       "15     False\n",
       "16     False\n",
       "17      True\n",
       "18     False\n",
       "19      True\n",
       "20     False\n",
       "21     False\n",
       "22     False\n",
       "23     False\n",
       "24     False\n",
       "25     False\n",
       "26      True\n",
       "27     False\n",
       "28      True\n",
       "29      True\n",
       "       ...  \n",
       "861    False\n",
       "862    False\n",
       "863     True\n",
       "864    False\n",
       "865    False\n",
       "866    False\n",
       "867    False\n",
       "868     True\n",
       "869    False\n",
       "870    False\n",
       "871    False\n",
       "872    False\n",
       "873    False\n",
       "874    False\n",
       "875    False\n",
       "876    False\n",
       "877    False\n",
       "878     True\n",
       "879    False\n",
       "880    False\n",
       "881    False\n",
       "882    False\n",
       "883    False\n",
       "884    False\n",
       "885    False\n",
       "886    False\n",
       "887    False\n",
       "888     True\n",
       "889    False\n",
       "890    False\n",
       "Name: Age, dtype: bool"
      ]
     },
     "execution_count": 5,
     "metadata": {},
     "output_type": "execute_result"
    }
   ],
   "source": [
    "#把不必要的欄位刪除(Ticket,Name,Cabin,Embarked) \n",
    "\n",
    "train_data = train_data.drop(['Ticket','Name','Cabin','Embarked'],axis=1) #axis=0:代表橫軸 axis=1:代表縱軸\n",
    "\n",
    "#分辨該欄有沒有值，有值為false,無值為True\n",
    "np.isnan(train_data['Age'])"
   ]
  },
  {
   "cell_type": "code",
   "execution_count": 6,
   "metadata": {
    "collapsed": false
   },
   "outputs": [
    {
     "data": {
      "text/plain": [
       "masked_array(data = [22.0 38.0 26.0 35.0 35.0 -- 54.0 2.0 27.0 14.0 4.0 58.0 20.0 39.0 14.0\n",
       " 55.0 2.0 -- 31.0 -- 35.0 34.0 15.0 28.0 8.0 38.0 -- 19.0 -- -- 40.0 -- --\n",
       " 66.0 28.0 42.0 -- 21.0 18.0 14.0 40.0 27.0 -- 3.0 19.0 -- -- -- -- 18.0\n",
       " 7.0 21.0 49.0 29.0 65.0 -- 21.0 28.5 5.0 11.0 22.0 38.0 45.0 4.0 -- --\n",
       " 29.0 19.0 17.0 26.0 32.0 16.0 21.0 26.0 32.0 25.0 -- -- 0.83 30.0 22.0\n",
       " 29.0 -- 28.0 17.0 33.0 16.0 -- 23.0 24.0 29.0 20.0 46.0 26.0 59.0 -- 71.0\n",
       " 23.0 34.0 34.0 28.0 -- 21.0 33.0 37.0 28.0 21.0 -- 38.0 -- 47.0 14.5 22.0\n",
       " 20.0 17.0 21.0 70.5 29.0 24.0 2.0 21.0 -- 32.5 32.5 54.0 12.0 -- 24.0 --\n",
       " 45.0 33.0 20.0 47.0 29.0 25.0 23.0 19.0 37.0 16.0 24.0 -- 22.0 24.0 19.0\n",
       " 18.0 19.0 27.0 9.0 36.5 42.0 51.0 22.0 55.5 40.5 -- 51.0 16.0 30.0 -- --\n",
       " 44.0 40.0 26.0 17.0 1.0 9.0 -- 45.0 -- 28.0 61.0 4.0 1.0 21.0 56.0 18.0 --\n",
       " 50.0 30.0 36.0 -- -- 9.0 1.0 4.0 -- -- 45.0 40.0 36.0 32.0 19.0 19.0 3.0\n",
       " 44.0 58.0 -- 42.0 -- 24.0 28.0 -- 34.0 45.5 18.0 2.0 32.0 26.0 16.0 40.0\n",
       " 24.0 35.0 22.0 30.0 -- 31.0 27.0 42.0 32.0 30.0 16.0 27.0 51.0 -- 38.0\n",
       " 22.0 19.0 20.5 18.0 -- 35.0 29.0 59.0 5.0 24.0 -- 44.0 8.0 19.0 33.0 -- --\n",
       " 29.0 22.0 30.0 44.0 25.0 24.0 37.0 54.0 -- 29.0 62.0 30.0 41.0 29.0 --\n",
       " 30.0 35.0 50.0 -- 3.0 52.0 40.0 -- 36.0 16.0 25.0 58.0 35.0 -- 25.0 41.0\n",
       " 37.0 -- 63.0 45.0 -- 7.0 35.0 65.0 28.0 16.0 19.0 -- 33.0 30.0 22.0 42.0\n",
       " 22.0 26.0 19.0 36.0 24.0 24.0 -- 23.5 2.0 -- 50.0 -- -- 19.0 -- -- 0.92 --\n",
       " 17.0 30.0 30.0 24.0 18.0 26.0 28.0 43.0 26.0 24.0 54.0 31.0 40.0 22.0 27.0\n",
       " 30.0 22.0 -- 36.0 61.0 36.0 31.0 16.0 -- 45.5 38.0 16.0 -- -- 29.0 41.0\n",
       " 45.0 45.0 2.0 24.0 28.0 25.0 36.0 24.0 40.0 -- 3.0 42.0 23.0 -- 15.0 25.0\n",
       " -- 28.0 22.0 38.0 -- -- 40.0 29.0 45.0 35.0 -- 30.0 60.0 -- -- 24.0 25.0\n",
       " 18.0 19.0 22.0 3.0 -- 22.0 27.0 20.0 19.0 42.0 1.0 32.0 35.0 -- 18.0 1.0\n",
       " 36.0 -- 17.0 36.0 21.0 28.0 23.0 24.0 22.0 31.0 46.0 23.0 28.0 39.0 26.0\n",
       " 21.0 28.0 20.0 34.0 51.0 3.0 21.0 -- -- -- 33.0 -- 44.0 -- 34.0 18.0 30.0\n",
       " 10.0 -- 21.0 29.0 28.0 18.0 -- 28.0 19.0 -- 32.0 28.0 -- 42.0 17.0 50.0\n",
       " 14.0 21.0 24.0 64.0 31.0 45.0 20.0 25.0 28.0 -- 4.0 13.0 34.0 5.0 52.0\n",
       " 36.0 -- 30.0 49.0 -- 29.0 65.0 -- 50.0 -- 48.0 34.0 47.0 48.0 -- 38.0 --\n",
       " 56.0 -- 0.75 -- 38.0 33.0 23.0 22.0 -- 34.0 29.0 22.0 2.0 9.0 -- 50.0 63.0\n",
       " 25.0 -- 35.0 58.0 30.0 9.0 -- 21.0 55.0 71.0 21.0 -- 54.0 -- 25.0 24.0\n",
       " 17.0 21.0 -- 37.0 16.0 18.0 33.0 -- 28.0 26.0 29.0 -- 36.0 54.0 24.0 47.0\n",
       " 34.0 -- 36.0 32.0 30.0 22.0 -- 44.0 -- 40.5 50.0 -- 39.0 23.0 2.0 -- 17.0\n",
       " -- 30.0 7.0 45.0 30.0 -- 22.0 36.0 9.0 11.0 32.0 50.0 64.0 19.0 -- 33.0\n",
       " 8.0 17.0 27.0 -- 22.0 22.0 62.0 48.0 -- 39.0 36.0 -- 40.0 28.0 -- -- 24.0\n",
       " 19.0 29.0 -- 32.0 62.0 53.0 36.0 -- 16.0 19.0 34.0 39.0 -- 32.0 25.0 39.0\n",
       " 54.0 36.0 -- 18.0 47.0 60.0 22.0 -- 35.0 52.0 47.0 -- 37.0 36.0 -- 49.0 --\n",
       " 49.0 24.0 -- -- 44.0 35.0 36.0 30.0 27.0 22.0 40.0 39.0 -- -- -- 35.0 24.0\n",
       " 34.0 26.0 4.0 26.0 27.0 42.0 20.0 21.0 21.0 61.0 57.0 21.0 26.0 -- 80.0\n",
       " 51.0 32.0 -- 9.0 28.0 32.0 31.0 41.0 -- 20.0 24.0 2.0 -- 0.75 48.0 19.0\n",
       " 56.0 -- 23.0 -- 18.0 21.0 -- 18.0 24.0 -- 32.0 23.0 58.0 50.0 40.0 47.0\n",
       " 36.0 20.0 32.0 25.0 -- 43.0 -- 40.0 31.0 70.0 31.0 -- 18.0 24.5 18.0 43.0\n",
       " 36.0 -- 27.0 20.0 14.0 60.0 25.0 14.0 19.0 18.0 15.0 31.0 4.0 -- 25.0 60.0\n",
       " 52.0 44.0 -- 49.0 42.0 18.0 35.0 18.0 25.0 26.0 39.0 45.0 42.0 22.0 --\n",
       " 24.0 -- 48.0 29.0 52.0 19.0 38.0 27.0 -- 33.0 6.0 17.0 34.0 50.0 27.0 20.0\n",
       " 30.0 -- 25.0 25.0 29.0 11.0 -- 23.0 23.0 28.5 48.0 35.0 -- -- -- 36.0 21.0\n",
       " 24.0 31.0 70.0 16.0 30.0 19.0 31.0 4.0 6.0 33.0 23.0 48.0 0.67 28.0 18.0\n",
       " 34.0 33.0 -- 41.0 20.0 36.0 16.0 51.0 -- 30.5 -- 32.0 24.0 48.0 57.0 --\n",
       " 54.0 18.0 -- 5.0 -- 43.0 13.0 17.0 29.0 -- 25.0 25.0 18.0 8.0 1.0 46.0 --\n",
       " 16.0 -- -- 25.0 39.0 49.0 31.0 30.0 30.0 34.0 31.0 11.0 0.42 27.0 31.0\n",
       " 39.0 18.0 39.0 33.0 26.0 39.0 35.0 6.0 30.5 -- 23.0 31.0 43.0 10.0 52.0\n",
       " 27.0 38.0 27.0 2.0 -- -- 1.0 -- 62.0 15.0 0.83 -- 23.0 18.0 39.0 21.0 --\n",
       " 32.0 -- 20.0 16.0 30.0 34.5 17.0 42.0 -- 35.0 28.0 -- 4.0 74.0 9.0 16.0\n",
       " 44.0 18.0 45.0 51.0 24.0 -- 41.0 21.0 48.0 -- 24.0 42.0 27.0 31.0 -- 4.0\n",
       " 26.0 47.0 33.0 47.0 28.0 15.0 20.0 19.0 -- 56.0 25.0 33.0 22.0 28.0 25.0\n",
       " 39.0 27.0 19.0 -- 26.0 32.0],\n",
       "             mask = [False False False False False  True False False False False False False\n",
       " False False False False False  True False  True False False False False\n",
       " False False  True False  True  True False  True  True False False False\n",
       "  True False False False False False  True False False  True  True  True\n",
       "  True False False False False False False  True False False False False\n",
       " False False False False  True  True False False False False False False\n",
       " False False False False  True  True False False False False  True False\n",
       " False False False  True False False False False False False False  True\n",
       " False False False False False  True False False False False False  True\n",
       " False  True False False False False False False False False False False\n",
       " False  True False False False False  True False  True False False False\n",
       " False False False False False False False False  True False False False\n",
       " False False False False False False False False False False  True False\n",
       " False False  True  True False False False False False False  True False\n",
       "  True False False False False False False False  True False False False\n",
       "  True  True False False False  True  True False False False False False\n",
       " False False False False  True False  True False False  True False False\n",
       " False False False False False False False False False False  True False\n",
       " False False False False False False False  True False False False False\n",
       " False  True False False False False False  True False False False False\n",
       "  True  True False False False False False False False False  True False\n",
       " False False False False  True False False False  True False False False\n",
       "  True False False False False False  True False False False  True False\n",
       " False  True False False False False False False  True False False False\n",
       " False False False False False False False  True False False  True False\n",
       "  True  True False  True  True False  True False False False False False\n",
       " False False False False False False False False False False False False\n",
       "  True False False False False False  True False False False  True  True\n",
       " False False False False False False False False False False False  True\n",
       " False False False  True False False  True False False False  True  True\n",
       " False False False False  True False False  True  True False False False\n",
       " False False False  True False False False False False False False False\n",
       "  True False False False  True False False False False False False False\n",
       " False False False False False False False False False False False False\n",
       " False  True  True  True False  True False  True False False False False\n",
       "  True False False False False  True False False  True False False  True\n",
       " False False False False False False False False False False False False\n",
       "  True False False False False False False  True False False  True False\n",
       " False  True False  True False False False False  True False  True False\n",
       "  True False  True False False False False  True False False False False\n",
       " False  True False False False  True False False False False  True False\n",
       " False False False  True False  True False False False False  True False\n",
       " False False False  True False False False  True False False False False\n",
       " False  True False False False False  True False  True False False  True\n",
       " False False False  True False  True False False False False  True False\n",
       " False False False False False False False  True False False False False\n",
       "  True False False False False  True False False  True False False  True\n",
       "  True False False False  True False False False False  True False False\n",
       " False False  True False False False False False  True False False False\n",
       " False  True False False False  True False False  True False  True False\n",
       " False  True  True False False False False False False False False  True\n",
       "  True  True False False False False False False False False False False\n",
       " False False False False False  True False False False  True False False\n",
       " False False False  True False False False  True False False False False\n",
       "  True False  True False False  True False False  True False False False\n",
       " False False False False False False False  True False  True False False\n",
       " False False  True False False False False False  True False False False\n",
       " False False False False False False False False  True False False False\n",
       " False  True False False False False False False False False False False\n",
       " False  True False  True False False False False False False  True False\n",
       " False False False False False False False  True False False False False\n",
       "  True False False False False False  True  True  True False False False\n",
       " False False False False False False False False False False False False\n",
       " False False False False  True False False False False False  True False\n",
       "  True False False False False  True False False  True False  True False\n",
       " False False False  True False False False False False False  True False\n",
       "  True  True False False False False False False False False False False\n",
       " False False False False False False False False False False False  True\n",
       " False False False False False False False False False  True  True False\n",
       "  True False False False  True False False False False  True False  True\n",
       " False False False False False False  True False False  True False False\n",
       " False False False False False False False  True False False False  True\n",
       " False False False False  True False False False False False False False\n",
       " False False  True False False False False False False False False False\n",
       "  True False False],\n",
       "       fill_value = 1e+20)"
      ]
     },
     "execution_count": 6,
     "metadata": {},
     "output_type": "execute_result"
    }
   ],
   "source": [
    "#把Age中的所有數值放入array\n",
    "m = np.ma.masked_array(train_data['Age'], np.isnan(train_data['Age']))\n",
    "m"
   ]
  },
  {
   "cell_type": "code",
   "execution_count": 7,
   "metadata": {
    "collapsed": false
   },
   "outputs": [
    {
     "data": {
      "text/plain": [
       "29"
      ]
     },
     "execution_count": 7,
     "metadata": {},
     "output_type": "execute_result"
    }
   ],
   "source": [
    "#用numpy把平均數算出來\n",
    "mean = np.mean(m).astype(int)\n",
    "mean"
   ]
  },
  {
   "cell_type": "code",
   "execution_count": 8,
   "metadata": {
    "collapsed": false
   },
   "outputs": [],
   "source": [
    "\"\"\"\n",
    "    意味著\n",
    "    for x in train_data['Age']:\n",
    "        if np.isnan(train_data['Age']) == true: x = mean;\n",
    "        #else: x = x\n",
    "\"\"\"\n",
    "train_data['Age'] = train_data['Age'].map(lambda x : mean if np.isnan(x) else x) "
   ]
  },
  {
   "cell_type": "code",
   "execution_count": 9,
   "metadata": {
    "collapsed": false
   },
   "outputs": [
    {
     "data": {
      "text/plain": [
       "array([[   1.    ,    0.    ,    3.    , ...,    1.    ,    0.    ,    7.25  ],\n",
       "       [   2.    ,    1.    ,    1.    , ...,    1.    ,    0.    ,\n",
       "          71.2833],\n",
       "       [   3.    ,    1.    ,    3.    , ...,    0.    ,    0.    ,\n",
       "           7.925 ],\n",
       "       ..., \n",
       "       [ 889.    ,    0.    ,    3.    , ...,    1.    ,    2.    ,   23.45  ],\n",
       "       [ 890.    ,    1.    ,    1.    , ...,    0.    ,    0.    ,   30.    ],\n",
       "       [ 891.    ,    0.    ,    3.    , ...,    0.    ,    0.    ,    7.75  ]])"
      ]
     },
     "execution_count": 9,
     "metadata": {},
     "output_type": "execute_result"
    }
   ],
   "source": [
    "#把每位乘客所有的值array起來\n",
    "x = train_data.values  \n",
    "x"
   ]
  },
  {
   "cell_type": "code",
   "execution_count": 10,
   "metadata": {
    "collapsed": false
   },
   "outputs": [
    {
     "data": {
      "text/plain": [
       "array([0, 1, 1, 1, 0, 0, 0, 0, 1, 1, 1, 1, 0, 0, 0, 1, 0, 1, 0, 1, 0, 1, 1,\n",
       "       1, 0, 1, 0, 0, 1, 0, 0, 1, 1, 0, 0, 0, 1, 0, 0, 1, 0, 0, 0, 1, 1, 0,\n",
       "       0, 1, 0, 0, 0, 0, 1, 1, 0, 1, 1, 0, 1, 0, 0, 1, 0, 0, 0, 1, 1, 0, 1,\n",
       "       0, 0, 0, 0, 0, 1, 0, 0, 0, 1, 1, 0, 1, 1, 0, 1, 1, 0, 0, 1, 0, 0, 0,\n",
       "       0, 0, 0, 0, 0, 1, 1, 0, 0, 0, 0, 0, 0, 0, 1, 1, 0, 1, 0, 0, 0, 0, 0,\n",
       "       0, 0, 0, 0, 0, 0, 0, 0, 1, 0, 1, 0, 1, 1, 0, 0, 0, 0, 1, 0, 0, 1, 0,\n",
       "       0, 0, 0, 1, 1, 0, 0, 0, 1, 0, 0, 0, 0, 1, 0, 0, 0, 0, 1, 0, 0, 0, 0,\n",
       "       1, 0, 0, 0, 1, 1, 0, 0, 0, 0, 0, 1, 0, 0, 0, 0, 0, 0, 0, 0, 0, 0, 1,\n",
       "       1, 0, 1, 1, 0, 0, 1, 0, 1, 1, 1, 1, 0, 0, 1, 0, 0, 0, 0, 0, 1, 0, 0,\n",
       "       1, 1, 1, 0, 1, 0, 0, 0, 1, 1, 0, 1, 0, 1, 0, 0, 0, 1, 0, 1, 0, 0, 0,\n",
       "       1, 0, 0, 1, 0, 0, 0, 1, 0, 0, 0, 1, 0, 0, 0, 0, 0, 1, 1, 0, 0, 0, 0,\n",
       "       0, 0, 1, 1, 1, 1, 1, 0, 1, 0, 0, 0, 0, 0, 1, 1, 1, 0, 1, 1, 0, 1, 1,\n",
       "       0, 0, 0, 1, 0, 0, 0, 1, 0, 0, 1, 0, 1, 1, 1, 1, 0, 0, 0, 0, 0, 0, 1,\n",
       "       1, 1, 1, 0, 1, 0, 1, 1, 1, 0, 1, 1, 1, 0, 0, 0, 1, 1, 0, 1, 1, 0, 0,\n",
       "       1, 1, 0, 1, 0, 1, 1, 1, 1, 0, 0, 0, 1, 0, 0, 1, 1, 0, 1, 1, 0, 0, 0,\n",
       "       1, 1, 1, 1, 0, 0, 0, 0, 0, 0, 0, 1, 0, 1, 1, 0, 0, 0, 0, 0, 0, 1, 1,\n",
       "       1, 1, 1, 0, 0, 0, 0, 1, 1, 0, 0, 0, 1, 1, 0, 1, 0, 0, 0, 1, 0, 1, 1,\n",
       "       1, 0, 1, 1, 0, 0, 0, 0, 1, 1, 0, 0, 0, 0, 0, 0, 1, 0, 0, 0, 0, 1, 0,\n",
       "       1, 0, 1, 1, 0, 0, 0, 0, 0, 0, 0, 0, 1, 1, 0, 1, 1, 1, 1, 0, 0, 1, 0,\n",
       "       1, 0, 0, 1, 0, 0, 1, 1, 1, 1, 1, 1, 1, 0, 0, 0, 1, 0, 1, 0, 1, 1, 0,\n",
       "       1, 0, 0, 0, 0, 0, 0, 0, 0, 1, 0, 0, 1, 1, 0, 0, 0, 0, 0, 1, 0, 0, 0,\n",
       "       1, 1, 0, 1, 0, 0, 1, 0, 0, 0, 0, 0, 0, 1, 0, 0, 0, 0, 0, 0, 0, 1, 0,\n",
       "       1, 1, 0, 1, 1, 0, 1, 1, 0, 0, 1, 0, 1, 0, 1, 0, 0, 1, 0, 0, 1, 0, 0,\n",
       "       0, 1, 0, 0, 1, 0, 1, 0, 1, 0, 1, 1, 0, 0, 1, 0, 0, 1, 1, 0, 1, 1, 0,\n",
       "       0, 1, 1, 0, 1, 0, 1, 1, 0, 0, 0, 0, 0, 0, 0, 0, 0, 1, 1, 1, 1, 1, 0,\n",
       "       0, 1, 1, 0, 1, 1, 1, 0, 0, 0, 1, 0, 1, 0, 0, 0, 1, 0, 0, 0, 0, 1, 0,\n",
       "       0, 1, 1, 0, 0, 0, 1, 0, 0, 1, 1, 1, 0, 0, 1, 0, 0, 1, 0, 0, 1, 0, 0,\n",
       "       1, 1, 0, 0, 0, 0, 1, 0, 0, 1, 0, 1, 0, 0, 1, 0, 0, 0, 0, 0, 1, 0, 1,\n",
       "       1, 1, 0, 1, 0, 1, 0, 1, 0, 1, 0, 0, 0, 0, 0, 0, 1, 0, 0, 0, 1, 0, 0,\n",
       "       0, 0, 1, 1, 0, 0, 1, 0, 0, 0, 1, 0, 1, 0, 1, 0, 0, 0, 0, 0, 0, 0, 1,\n",
       "       1, 1, 1, 0, 0, 0, 0, 1, 0, 0, 1, 1, 0, 0, 0, 0, 1, 1, 1, 1, 1, 0, 1,\n",
       "       0, 0, 0, 1, 1, 0, 0, 1, 0, 0, 0, 1, 0, 1, 1, 0, 0, 1, 0, 0, 0, 0, 0,\n",
       "       0, 1, 0, 0, 1, 0, 1, 0, 1, 0, 0, 1, 0, 0, 1, 1, 0, 0, 1, 1, 0, 0, 0,\n",
       "       1, 0, 0, 1, 1, 0, 1, 0, 0, 0, 0, 0, 0, 0, 0, 1, 0, 0, 1, 0, 1, 1, 1,\n",
       "       0, 0, 0, 0, 1, 0, 1, 0, 0, 0, 0, 0, 0, 0, 1, 1, 0, 0, 0, 1, 1, 1, 1,\n",
       "       0, 0, 0, 0, 1, 0, 0, 0, 0, 0, 0, 0, 0, 0, 0, 1, 1, 0, 1, 0, 0, 0, 1,\n",
       "       1, 1, 1, 1, 0, 0, 0, 1, 0, 0, 1, 1, 0, 0, 1, 0, 0, 0, 0, 0, 0, 1, 0,\n",
       "       0, 0, 1, 0, 1, 1, 1, 1, 0, 0, 0, 1, 0, 0, 1, 1, 0, 0, 1, 0, 1, 0, 0,\n",
       "       1, 1, 0, 0, 0, 1, 1, 0, 0, 0, 0, 0, 0, 1, 0, 1, 0])"
      ]
     },
     "execution_count": 10,
     "metadata": {},
     "output_type": "execute_result"
    }
   ],
   "source": [
    "#把Survived的值array起來\n",
    "y = train_data['Survived'].values\n",
    "y"
   ]
  },
  {
   "cell_type": "code",
   "execution_count": 11,
   "metadata": {
    "collapsed": false
   },
   "outputs": [
    {
     "data": {
      "text/plain": [
       "array([[   1.    ,    3.    ,    0.    , ...,    1.    ,    0.    ,    7.25  ],\n",
       "       [   2.    ,    1.    ,    1.    , ...,    1.    ,    0.    ,\n",
       "          71.2833],\n",
       "       [   3.    ,    3.    ,    1.    , ...,    0.    ,    0.    ,\n",
       "           7.925 ],\n",
       "       ..., \n",
       "       [ 889.    ,    3.    ,    1.    , ...,    1.    ,    2.    ,   23.45  ],\n",
       "       [ 890.    ,    1.    ,    0.    , ...,    0.    ,    0.    ,   30.    ],\n",
       "       [ 891.    ,    3.    ,    0.    , ...,    0.    ,    0.    ,    7.75  ]])"
      ]
     },
     "execution_count": 11,
     "metadata": {},
     "output_type": "execute_result"
    }
   ],
   "source": [
    "#把survived那欄拿掉: np.delete(x,第幾欄,axis=1) axis=0:代表橫軸 axis=1:代表縱軸\n",
    "x = np.delete(x,1,axis=1) \n",
    "x"
   ]
  },
  {
   "cell_type": "code",
   "execution_count": 12,
   "metadata": {
    "collapsed": false
   },
   "outputs": [],
   "source": [
    "#把train_data中一部分拿出來做訓練，再把另一部分拿來測試，再之後要針對每個分類器做出model\n",
    "#x_train 為已知train_data的feature值, x_test為假設未知的feature\n",
    "#y_train 為已知train_data的lebal值, y_test為假設未知的lebal\n",
    "x_train, x_test, y_train, y_test = cross_validation.train_test_split(x,y,test_size=0.3,random_state=1)  "
   ]
  },
  {
   "cell_type": "code",
   "execution_count": 13,
   "metadata": {
    "collapsed": false
   },
   "outputs": [
    {
     "data": {
      "text/plain": [
       "array([[ 115.    ,    3.    ,    1.    , ...,    0.    ,    0.    ,\n",
       "          14.4583],\n",
       "       [ 875.    ,    2.    ,    1.    , ...,    1.    ,    0.    ,   24.    ],\n",
       "       [  77.    ,    3.    ,    0.    , ...,    0.    ,    0.    ,\n",
       "           7.8958],\n",
       "       ..., \n",
       "       [  73.    ,    2.    ,    0.    , ...,    0.    ,    0.    ,   73.5   ],\n",
       "       [ 236.    ,    3.    ,    1.    , ...,    0.    ,    0.    ,    7.55  ],\n",
       "       [  38.    ,    3.    ,    0.    , ...,    0.    ,    0.    ,    8.05  ]])"
      ]
     },
     "execution_count": 13,
     "metadata": {},
     "output_type": "execute_result"
    }
   ],
   "source": [
    "x_train"
   ]
  },
  {
   "cell_type": "code",
   "execution_count": 14,
   "metadata": {
    "collapsed": false
   },
   "outputs": [
    {
     "data": {
      "text/plain": [
       "array([[ 863.    ,    1.    ,    1.    , ...,    0.    ,    0.    ,\n",
       "          25.9292],\n",
       "       [ 224.    ,    3.    ,    0.    , ...,    0.    ,    0.    ,\n",
       "           7.8958],\n",
       "       [  85.    ,    2.    ,    1.    , ...,    0.    ,    0.    ,   10.5   ],\n",
       "       ..., \n",
       "       [ 240.    ,    2.    ,    0.    , ...,    0.    ,    0.    ,\n",
       "          12.275 ],\n",
       "       [ 485.    ,    1.    ,    0.    , ...,    1.    ,    0.    ,\n",
       "          91.0792],\n",
       "       [  93.    ,    1.    ,    0.    , ...,    1.    ,    0.    ,\n",
       "          61.175 ]])"
      ]
     },
     "execution_count": 14,
     "metadata": {},
     "output_type": "execute_result"
    }
   ],
   "source": [
    "x_test"
   ]
  },
  {
   "cell_type": "code",
   "execution_count": 15,
   "metadata": {
    "collapsed": false
   },
   "outputs": [],
   "source": [
    "#使用decision_tree做訓練model\n",
    "\"\"\"\n",
    "   運用sklearn的library\n",
    "\"\"\"\n",
    "decision_tree = tree.DecisionTreeClassifier(max_depth=3)  "
   ]
  },
  {
   "cell_type": "code",
   "execution_count": 16,
   "metadata": {
    "collapsed": false
   },
   "outputs": [
    {
     "data": {
      "text/plain": [
       "DecisionTreeClassifier(class_weight=None, criterion='gini', max_depth=3,\n",
       "            max_features=None, max_leaf_nodes=None, min_samples_leaf=1,\n",
       "            min_samples_split=2, min_weight_fraction_leaf=0.0,\n",
       "            random_state=None, splitter='best')"
      ]
     },
     "execution_count": 16,
     "metadata": {},
     "output_type": "execute_result"
    }
   ],
   "source": [
    "#下面是Decision Tree分類器的可改變參數\n",
    "decision_tree.fit(x_train, y_train) "
   ]
  },
  {
   "cell_type": "code",
   "execution_count": 17,
   "metadata": {
    "collapsed": false
   },
   "outputs": [
    {
     "data": {
      "text/plain": [
       "0.78731343283582089"
      ]
     },
     "execution_count": 17,
     "metadata": {},
     "output_type": "execute_result"
    }
   ],
   "source": [
    "decision_tree.score(x_test,y_test)"
   ]
  },
  {
   "cell_type": "code",
   "execution_count": 18,
   "metadata": {
    "collapsed": false
   },
   "outputs": [
    {
     "data": {
      "text/plain": [
       "KNeighborsClassifier(algorithm='auto', leaf_size=30, metric='minkowski',\n",
       "           metric_params=None, n_neighbors=25, p=2, weights='uniform')"
      ]
     },
     "execution_count": 18,
     "metadata": {},
     "output_type": "execute_result"
    }
   ],
   "source": [
    "#使用KNN來做訓練model\n",
    "\"\"\"\n",
    "運用sklearn的library\n",
    "\"\"\"\n",
    "knn = KNeighborsClassifier(n_neighbors=25)\n",
    "knn.fit(x_train, y_train) "
   ]
  },
  {
   "cell_type": "code",
   "execution_count": 21,
   "metadata": {
    "collapsed": false
   },
   "outputs": [
    {
     "data": {
      "text/plain": [
       "KNeighborsClassifier(algorithm='auto', leaf_size=30, metric='minkowski',\n",
       "           metric_params=None, n_neighbors=25, p=2, weights='uniform')"
      ]
     },
     "execution_count": 21,
     "metadata": {},
     "output_type": "execute_result"
    }
   ],
   "source": [
    "#下面是KNN分類器的可改變參數\n",
    "knn.fit(x_train, y_train)"
   ]
  },
  {
   "cell_type": "code",
   "execution_count": 22,
   "metadata": {
    "collapsed": false
   },
   "outputs": [
    {
     "data": {
      "text/plain": [
       "0.63432835820895528"
      ]
     },
     "execution_count": 22,
     "metadata": {},
     "output_type": "execute_result"
    }
   ],
   "source": [
    "knn.score(x_test,y_test)"
   ]
  },
  {
   "cell_type": "code",
   "execution_count": null,
   "metadata": {
    "collapsed": true
   },
   "outputs": [],
   "source": []
  }
 ],
 "metadata": {
  "kernelspec": {
   "display_name": "Python 2",
   "language": "python",
   "name": "python2"
  },
  "language_info": {
   "codemirror_mode": {
    "name": "ipython",
    "version": 2
   },
   "file_extension": ".py",
   "mimetype": "text/x-python",
   "name": "python",
   "nbconvert_exporter": "python",
   "pygments_lexer": "ipython2",
   "version": "2.7.6"
  }
 },
 "nbformat": 4,
 "nbformat_minor": 0
}
